{
 "cells": [
  {
   "cell_type": "markdown",
   "metadata": {},
   "source": [
    "# Mini-Project I\n",
    "During this project, we will practice handling of complex lists and dictionaries in Python. Plus, we will learn how to work with API documentation. Don't be afraid to search for the information in the [**documentation**](https://api.tfl.gov.uk/swagger/ui/index.html?url=/swagger/docs/v1#!/AccidentStats/AccidentStats_Get).\n",
    "\n",
    "Let's go to the tasks, we have some parsing to do :)!!"
   ]
  },
  {
   "cell_type": "code",
   "execution_count": 46,
   "metadata": {},
   "outputs": [
    {
     "data": {
      "text/plain": [
       "True"
      ]
     },
     "execution_count": 46,
     "metadata": {},
     "output_type": "execute_result"
    }
   ],
   "source": [
    "# import packages we need (remember what packages we used yesterday during the API session)\n",
    "from dotenv import load_dotenv\n",
    "from collections import Counter\n",
    "import requests, os, json\n",
    "\n",
    "load_dotenv()"
   ]
  },
  {
   "cell_type": "code",
   "execution_count": 47,
   "metadata": {},
   "outputs": [],
   "source": [
    "# URLs\n",
    "url_air_quality = \"https://api.tfl.gov.uk/AirQuality\"\n",
    "url_modes = 'https://api.tfl.gov.uk/Line/Meta/Modes'\n",
    "url_bike_point = 'https://api.tfl.gov.uk/BikePoint/'\n",
    "url_lines_tube = 'https://api.tfl.gov.uk/Line/Mode/tube'\n",
    "url_lines_bus = 'https://api.tfl.gov.uk/Line/Mode/bus'\n",
    "url_victoria = 'https://api.tfl.gov.uk/Line/victoria/StopPoints'"
   ]
  },
  {
   "cell_type": "markdown",
   "metadata": {},
   "source": [
    "## Demo"
   ]
  },
  {
   "cell_type": "code",
   "execution_count": 48,
   "metadata": {},
   "outputs": [],
   "source": [
    "# append this authorization to the request url\n",
    "def authorization():\n",
    "    app_id = os.getenv(\"TFL_API_ID\")\n",
    "    app_key = os.getenv(\"TFL_API_KEY\")\n",
    "    url_append = f'?app_id={app_id}&app_key={app_key}'\n",
    "    return url_append"
   ]
  },
  {
   "cell_type": "code",
   "execution_count": 49,
   "metadata": {},
   "outputs": [],
   "source": [
    "# send the request to the API\n",
    "# check if the request was successful\n",
    "def request_data(url, params='', auth=True, type='json'):\n",
    "    if auth == 'True':\n",
    "        res = requests.get(url + authorization(), params)\n",
    "        res.status_code\n",
    "    else:\n",
    "        res = requests.get(url, params)\n",
    "        res.status_code\n",
    "        \n",
    "    if type == 'text':\n",
    "        return res.text\n",
    "\n",
    "    return res.json()"
   ]
  },
  {
   "cell_type": "code",
   "execution_count": 50,
   "metadata": {},
   "outputs": [],
   "source": [
    "# unpack dictionary in list,\n",
    "# then parse for key and output its values as list\n",
    "def unpack_to_list(tfl_data, field):\n",
    "\n",
    "    data_list = []\n",
    "    \n",
    "    for type in tfl_data:\n",
    "        for key, value in type.items():\n",
    "            if key == field:\n",
    "                data_list += [value]\n",
    "    \n",
    "    return data_list"
   ]
  },
  {
   "cell_type": "code",
   "execution_count": 51,
   "metadata": {},
   "outputs": [],
   "source": [
    "# remove any unwanted fields in a dictionary output,\n",
    "# then output the result\n",
    "def skip_fields(dictionary, fields_to_skip):\n",
    "    for key, value in dictionary.items():\n",
    "        flag = False\n",
    "\n",
    "        for field in fields_to_skip:\n",
    "            if key == field:\n",
    "                flag = True\n",
    "        \n",
    "        if flag != True:\n",
    "            print(f'{key} : {value}')"
   ]
  },
  {
   "cell_type": "code",
   "execution_count": 52,
   "metadata": {},
   "outputs": [],
   "source": [
    "# request data and export the information that was returned using .json()\n",
    "forecast_data = request_data(url_air_quality)"
   ]
  },
  {
   "cell_type": "markdown",
   "metadata": {},
   "source": [
    "## Task\n",
    "Parse the dictionary and print the AirQuality predictions for tomorrow"
   ]
  },
  {
   "cell_type": "code",
   "execution_count": 53,
   "metadata": {},
   "outputs": [
    {
     "name": "stdout",
     "output_type": "stream",
     "text": [
      "forecastType : Future\n",
      "publishedDate : 2022-08-04T11:02:33Z\n",
      "fromDate : 2022-09-04T00:00:00Z\n",
      "toDate : 2022-09-04T23:59:00Z\n",
      "forecastBand : Low\n",
      "forecastSummary : Low air pollution forecast valid from Saturday 9 April to end of Saturday 9 April GMT\n",
      "nO2Band : Low\n",
      "o3Band : Low\n",
      "pM10Band : Low\n",
      "pM25Band : Low\n",
      "sO2Band : Low\n",
      "forecastText : Following a cold start to the weekend, temperatures are forecast to warm up by Monday.  Saturday is expected to be mainly dry with some sun in parts.&lt;br/&gt;&lt;br/&gt;A continuing northerly air feed to Greater London should be relatively &#39;clean&#39; and carry little by way of imported pollution. There should also be enough air movement to prevent the build-up of local emissions. &lt;br/&gt;&lt;br/&gt;Overall air pollution is expected to remain &#39;Low&#39; throughout the forecast period for the following pollutants:&lt;br/&gt;&lt;br/&gt;Nitrogen Dioxide&lt;br/&gt;Ozone&lt;br/&gt;PM10 Particulate&lt;br/&gt;PM2.5 Particulate&lt;br/&gt;Sulphur Dioxide&lt;br/&gt;&lt;br/&gt;\n"
     ]
    }
   ],
   "source": [
    "# take relevant data from future\n",
    "forecast_future = forecast_data['currentForecast'][1]\n",
    "\n",
    "# data to remove from output\n",
    "ignore_fields = ['$id', '$type', 'forecastID', ]\n",
    "\n",
    "# remove irrelevant data and output the rest\n",
    "skip_fields(forecast_future, ignore_fields)"
   ]
  },
  {
   "cell_type": "markdown",
   "metadata": {},
   "source": [
    "## Task\n",
    "What are the different modes of transport which are operated by Transfer for London? How many of modes do they have?\n",
    "\n",
    "Print the list with different modes of transport, plus their count. Example output:\n",
    "```\n",
    "[bus, cable-car,.....]\n",
    "Number of different modes of transport is: xyz\n",
    "```\n",
    "\n",
    "We need to search the documentation for correct request."
   ]
  },
  {
   "cell_type": "code",
   "execution_count": 54,
   "metadata": {},
   "outputs": [],
   "source": [
    "# request data for modes\n",
    "modes_data = request_data(url_modes)"
   ]
  },
  {
   "cell_type": "code",
   "execution_count": 55,
   "metadata": {},
   "outputs": [
    {
     "name": "stdout",
     "output_type": "stream",
     "text": [
      "['bus', 'cable-car', 'coach', 'cycle', 'cycle-hire', 'dlr', 'elizabeth-line', 'interchange-keep-sitting', 'interchange-secure', 'national-rail', 'overground', 'replacement-bus', 'river-bus', 'river-tour', 'taxi', 'tflrail', 'tram', 'tube', 'walking']\n",
      "Number of different modes of transport: 19\n"
     ]
    }
   ],
   "source": [
    "# convert list into nested dictionary and output 'modeName' field as a list\n",
    "print(unpack_to_list(modes_data, 'modeName'))\n",
    "\n",
    "# print number of modes\n",
    "print(f'Number of different modes of transport: {len(modes_data)}')"
   ]
  },
  {
   "cell_type": "markdown",
   "metadata": {},
   "source": [
    "## Task\n",
    "How many BikePoints in London are operated by Transfor for London? How many docks are in **all** BikePoints? There is the information for empty and full docks for each BikePoint."
   ]
  },
  {
   "cell_type": "code",
   "execution_count": 56,
   "metadata": {},
   "outputs": [],
   "source": [
    "# request data for bike points and return as .json\n",
    "bike_points_data = request_data(url_bike_point)"
   ]
  },
  {
   "cell_type": "code",
   "execution_count": 57,
   "metadata": {},
   "outputs": [
    {
     "name": "stdout",
     "output_type": "stream",
     "text": [
      "There are 791 BikePoints in London operated by TFL.\n"
     ]
    }
   ],
   "source": [
    "# count the number of bike points\n",
    "bike_points = unpack_to_list(bike_points_data, 'id')\n",
    "print(f'There are {len(bike_points)} BikePoints in London operated by TFL.')"
   ]
  },
  {
   "cell_type": "code",
   "execution_count": 58,
   "metadata": {},
   "outputs": [],
   "source": [
    "# isolate additional properties from the fields under each BikePoint,\n",
    "# and aggregate them in a list\n",
    "add_props = []\n",
    "for num in range(len(bike_points_data)):\n",
    "    for key,value in bike_points_data[num].items():\n",
    "        if key == 'additionalProperties':\n",
    "            add_props += value"
   ]
  },
  {
   "cell_type": "code",
   "execution_count": 59,
   "metadata": {},
   "outputs": [
    {
     "name": "stdout",
     "output_type": "stream",
     "text": [
      "There are 30665 docks in all BikePoints.\n"
     ]
    }
   ],
   "source": [
    "# search for keywords 'NbDocks' and NbEmptyDocks' and list their indices\n",
    "index = []\n",
    "count = 0\n",
    "for description in add_props:\n",
    "    for key, value in description.items():\n",
    "        if key == 'key' and value == 'NbDocks':\n",
    "            index.append(count)\n",
    "        elif key == 'key' and value == 'NbEmptyDocks':\n",
    "            index.append(count)\n",
    "    count += 1\n",
    "\n",
    "# using the indices, aggregate the values (counts)\n",
    "# of all empty and non-empty docks into a list\n",
    "docks = []\n",
    "for i in index:\n",
    "    for key, value in add_props[i].items():\n",
    "        if key == 'value':\n",
    "            docks += [value]\n",
    "\n",
    "# convert the collected string values into integers\n",
    "# and perform a sum to get a total value\n",
    "dock_count = sum(map(int, docks))\n",
    "\n",
    "print(f'There are {dock_count} docks in all BikePoints.')"
   ]
  },
  {
   "cell_type": "markdown",
   "metadata": {},
   "source": [
    "## Task\n",
    "How many tube and bus lines are in London? Print names of all tube lines."
   ]
  },
  {
   "cell_type": "code",
   "execution_count": 60,
   "metadata": {},
   "outputs": [],
   "source": [
    "# request data for all tube and bus lines\n",
    "lines_tube_data = request_data(url_lines_tube)\n",
    "lines_bus_data = request_data(url_lines_bus)"
   ]
  },
  {
   "cell_type": "code",
   "execution_count": 61,
   "metadata": {},
   "outputs": [],
   "source": [
    "# get list of all tube and bus lines\n",
    "tube_names = unpack_to_list(lines_tube_data, 'name')\n",
    "bus_names = unpack_to_list(lines_bus_data, 'name')"
   ]
  },
  {
   "cell_type": "code",
   "execution_count": 62,
   "metadata": {},
   "outputs": [
    {
     "name": "stdout",
     "output_type": "stream",
     "text": [
      "There are no lines shared between tubes and bus modes.\n"
     ]
    }
   ],
   "source": [
    "# check for intesection between bus names & tube lines\n",
    "same_names = set(tube_names) & set(bus_names)\n",
    "\n",
    "if list(same_names) == []:\n",
    "    print('There are no lines shared between tubes and bus modes.')\n",
    "else:\n",
    "    for same in same_names:\n",
    "        print(same)"
   ]
  },
  {
   "cell_type": "code",
   "execution_count": 63,
   "metadata": {},
   "outputs": [
    {
     "name": "stdout",
     "output_type": "stream",
     "text": [
      "There are a total of 688 tube and bus lines in London.\n"
     ]
    }
   ],
   "source": [
    "# add both lines to calculate total regardless of mode\n",
    "total_lines = len(bus_names) + len(tube_names)\n",
    "print(f'There are a total of {total_lines} tube and bus lines in London.')"
   ]
  },
  {
   "cell_type": "code",
   "execution_count": 64,
   "metadata": {},
   "outputs": [
    {
     "data": {
      "text/plain": [
       "['Bakerloo',\n",
       " 'Central',\n",
       " 'Circle',\n",
       " 'District',\n",
       " 'Hammersmith & City',\n",
       " 'Jubilee',\n",
       " 'Metropolitan',\n",
       " 'Northern',\n",
       " 'Piccadilly',\n",
       " 'Victoria',\n",
       " 'Waterloo & City']"
      ]
     },
     "execution_count": 64,
     "metadata": {},
     "output_type": "execute_result"
    }
   ],
   "source": [
    "# print names from all tube lines\n",
    "tube_names"
   ]
  },
  {
   "cell_type": "markdown",
   "metadata": {},
   "source": [
    "## Task\n",
    "How many station has `victoria` line?"
   ]
  },
  {
   "cell_type": "code",
   "execution_count": 65,
   "metadata": {},
   "outputs": [],
   "source": [
    "# request data for stations along the Victoria line\n",
    "victoria_data = request_data(url_victoria)"
   ]
  },
  {
   "cell_type": "code",
   "execution_count": 66,
   "metadata": {},
   "outputs": [
    {
     "name": "stdout",
     "output_type": "stream",
     "text": [
      "There are 16 stations along the Victoria line.\n"
     ]
    }
   ],
   "source": [
    "# count stations along the Victoria Line\n",
    "victoria_stations = unpack_to_list(victoria_data, 'stopType')\n",
    "print(f'There are {len(victoria_stations)} stations along the Victoria line.')"
   ]
  },
  {
   "cell_type": "markdown",
   "metadata": {},
   "source": [
    "## Task\n",
    "Plan the journey from Heathrow Airport to Tower Bridge using Bus and Tube? Which way is faster? Example output:\n",
    "```\n",
    "Planned duration:\n",
    "Bus: x minutes\n",
    "Tube: y minutes\n",
    "```\n",
    "\n",
    "We need to search the documentation for correct requests and parameters we need."
   ]
  },
  {
   "cell_type": "code",
   "execution_count": 71,
   "metadata": {},
   "outputs": [],
   "source": [
    "# found coordinates using disambiguation results from passing locations: 'Tower Bridge' and 'Heathrow Airport'\n",
    "journey_to = '51.50599630145,-0.07502752221' # Tower Bridge\n",
    "journey_from = '51.46962511264,-0.44968473098' # Heathrow Airport\n",
    "\n",
    "# set parameters for requests.get\n",
    "# site documention refers to 'bus' mode as 'public-bus'; 'bus' provides better results\n",
    "journey_bus = {\n",
    "    ('mode', 'bus'),\n",
    "    ('journeyPreference', 'leasttime')\n",
    "}\n",
    "\n",
    "journey_tube = {\n",
    "    ('mode', 'tube'),\n",
    "    ('journeyPreference', 'leasttime')\n",
    "}\n",
    "\n",
    "# set URLs using coordinates\n",
    "url_journey_bus = f'https://api.tfl.gov.uk/Journey/JourneyResults/{journey_from}/to/{journey_to}'\n",
    "url_journey_tube = f'https://api.tfl.gov.uk/Journey/JourneyResults/{journey_from}/to/{journey_to}'"
   ]
  },
  {
   "cell_type": "code",
   "execution_count": 72,
   "metadata": {},
   "outputs": [],
   "source": [
    "# request data for quickest routes using tube and bus modes (no authorization)\n",
    "journey_data_bus = request_data(url_journey_bus, journey_bus, auth=False)\n",
    "journey_data_tube = request_data(url_journey_tube, journey_tube, auth=False)"
   ]
  },
  {
   "cell_type": "code",
   "execution_count": 73,
   "metadata": {},
   "outputs": [
    {
     "name": "stdout",
     "output_type": "stream",
     "text": [
      "Bus: 166 min\n",
      "Tube: 83 min\n"
     ]
    }
   ],
   "source": [
    "# fastest planned durations for each mode\n",
    "# # bus\n",
    "bus_routes = []\n",
    "for route in journey_data_bus['journeys']:\n",
    "    bus_routes.append(route['duration'])\n",
    "\n",
    "fastest_bus_route = min(bus_routes)\n",
    "print(f'Bus: {fastest_bus_route} min')\n",
    "\n",
    "# # tube\n",
    "tube_routes = []\n",
    "for route in journey_data_tube['journeys']:\n",
    "    tube_routes.append(route['duration'])\n",
    "\n",
    "fastest_tube_route = min(tube_routes)\n",
    "print(f'Tube: {fastest_tube_route} min')"
   ]
  },
  {
   "cell_type": "code",
   "execution_count": 74,
   "metadata": {},
   "outputs": [
    {
     "name": "stdout",
     "output_type": "stream",
     "text": [
      "Planned duration: 83 min\n"
     ]
    }
   ],
   "source": [
    "# determining which mode is quicker from Heathrow Airport to Tower Bridge\n",
    "fastest_mode = min(fastest_bus_route, fastest_tube_route)\n",
    "print(f'Planned duration: {fastest_mode} min')"
   ]
  },
  {
   "cell_type": "markdown",
   "metadata": {},
   "source": [
    "# [end]"
   ]
  },
  {
   "cell_type": "code",
   "execution_count": null,
   "metadata": {},
   "outputs": [],
   "source": [
    "# # set URL vars\n",
    "# journey_to = '51.50599630145,-0.07502752221' # found using disambiguation results from 'Tower Bridge'\n",
    "# journey_from = '51.46962511264,-0.44968473098' # found using disambiguation results from 'Heathrow Airport'\n",
    "# journey_pref = 'leasttime'\n",
    "# journey_mode_bus = 'bus' # API documention refers to this mode as 'public-bus' but 'bus' works better\n",
    "# journey_mode_tube = 'tube'\n",
    "\n",
    "# # urls\n",
    "# url_journey_bus = f'https://api.tfl.gov.uk/Journey/JourneyResults/{journey_from}/to/{journey_to}?mode={journey_mode_bus}&journeyPreference={journey_pref}'\n",
    "# url_journey_tube = f'https://api.tfl.gov.uk/Journey/JourneyResults/{journey_from}/to/{journey_to}?mode={journey_mode_tube}&journeyPreference={journey_pref}'"
   ]
  }
 ],
 "metadata": {
  "kernelspec": {
   "display_name": "Python 3",
   "language": "python",
   "name": "python3"
  },
  "language_info": {
   "codemirror_mode": {
    "name": "ipython",
    "version": 3
   },
   "file_extension": ".py",
   "mimetype": "text/x-python",
   "name": "python",
   "nbconvert_exporter": "python",
   "pygments_lexer": "ipython3",
   "version": "3.8.13"
  }
 },
 "nbformat": 4,
 "nbformat_minor": 4
}
